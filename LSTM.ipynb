{
 "cells": [
  {
   "cell_type": "code",
   "execution_count": 1,
   "id": "3532ed80",
   "metadata": {},
   "outputs": [],
   "source": [
    "import pandas as pd\n",
    "import numpy as np\n",
    "from sklearn.preprocessing import MinMaxScaler\n",
    "from tensorflow.keras.models import Sequential\n",
    "from tensorflow.keras.layers import LSTM, Dense, Dropout\n",
    "from sklearn.model_selection import TimeSeriesSplit"
   ]
  },
  {
   "cell_type": "code",
   "execution_count": 2,
   "id": "7c8bf7f3",
   "metadata": {},
   "outputs": [],
   "source": [
    "data=pd.read_csv('data_production')"
   ]
  },
  {
   "cell_type": "code",
   "execution_count": 3,
   "id": "b5cd67f8",
   "metadata": {},
   "outputs": [
    {
     "data": {
      "text/html": [
       "<div>\n",
       "<style scoped>\n",
       "    .dataframe tbody tr th:only-of-type {\n",
       "        vertical-align: middle;\n",
       "    }\n",
       "\n",
       "    .dataframe tbody tr th {\n",
       "        vertical-align: top;\n",
       "    }\n",
       "\n",
       "    .dataframe thead th {\n",
       "        text-align: right;\n",
       "    }\n",
       "</style>\n",
       "<table border=\"1\" class=\"dataframe\">\n",
       "  <thead>\n",
       "    <tr style=\"text-align: right;\">\n",
       "      <th></th>\n",
       "      <th>Unnamed: 0</th>\n",
       "      <th>observation_date</th>\n",
       "      <th>Production</th>\n",
       "      <th>année</th>\n",
       "      <th>mois</th>\n",
       "      <th>saison</th>\n",
       "    </tr>\n",
       "  </thead>\n",
       "  <tbody>\n",
       "    <tr>\n",
       "      <th>0</th>\n",
       "      <td>0</td>\n",
       "      <td>1939-01-01</td>\n",
       "      <td>3.3336</td>\n",
       "      <td>1939</td>\n",
       "      <td>1</td>\n",
       "      <td>1</td>\n",
       "    </tr>\n",
       "    <tr>\n",
       "      <th>1</th>\n",
       "      <td>1</td>\n",
       "      <td>1939-02-01</td>\n",
       "      <td>3.3591</td>\n",
       "      <td>1939</td>\n",
       "      <td>2</td>\n",
       "      <td>1</td>\n",
       "    </tr>\n",
       "    <tr>\n",
       "      <th>2</th>\n",
       "      <td>2</td>\n",
       "      <td>1939-03-01</td>\n",
       "      <td>3.4354</td>\n",
       "      <td>1939</td>\n",
       "      <td>3</td>\n",
       "      <td>2</td>\n",
       "    </tr>\n",
       "    <tr>\n",
       "      <th>3</th>\n",
       "      <td>3</td>\n",
       "      <td>1939-04-01</td>\n",
       "      <td>3.4608</td>\n",
       "      <td>1939</td>\n",
       "      <td>4</td>\n",
       "      <td>2</td>\n",
       "    </tr>\n",
       "    <tr>\n",
       "      <th>4</th>\n",
       "      <td>4</td>\n",
       "      <td>1939-05-01</td>\n",
       "      <td>3.4608</td>\n",
       "      <td>1939</td>\n",
       "      <td>5</td>\n",
       "      <td>2</td>\n",
       "    </tr>\n",
       "  </tbody>\n",
       "</table>\n",
       "</div>"
      ],
      "text/plain": [
       "   Unnamed: 0 observation_date  Production  année  mois  saison\n",
       "0           0       1939-01-01      3.3336   1939     1       1\n",
       "1           1       1939-02-01      3.3591   1939     2       1\n",
       "2           2       1939-03-01      3.4354   1939     3       2\n",
       "3           3       1939-04-01      3.4608   1939     4       2\n",
       "4           4       1939-05-01      3.4608   1939     5       2"
      ]
     },
     "execution_count": 3,
     "metadata": {},
     "output_type": "execute_result"
    }
   ],
   "source": [
    "data.head()"
   ]
  },
  {
   "cell_type": "code",
   "execution_count": 4,
   "id": "0a193ad5",
   "metadata": {},
   "outputs": [],
   "source": [
    "# Suppression de la colonne 'Unnamed: 0'\n",
    "data = data.drop(columns=['Unnamed: 0'])"
   ]
  },
  {
   "cell_type": "code",
   "execution_count": 5,
   "id": "d2df391a",
   "metadata": {},
   "outputs": [
    {
     "data": {
      "text/html": [
       "<div>\n",
       "<style scoped>\n",
       "    .dataframe tbody tr th:only-of-type {\n",
       "        vertical-align: middle;\n",
       "    }\n",
       "\n",
       "    .dataframe tbody tr th {\n",
       "        vertical-align: top;\n",
       "    }\n",
       "\n",
       "    .dataframe thead th {\n",
       "        text-align: right;\n",
       "    }\n",
       "</style>\n",
       "<table border=\"1\" class=\"dataframe\">\n",
       "  <thead>\n",
       "    <tr style=\"text-align: right;\">\n",
       "      <th></th>\n",
       "      <th>observation_date</th>\n",
       "      <th>Production</th>\n",
       "      <th>année</th>\n",
       "      <th>mois</th>\n",
       "      <th>saison</th>\n",
       "    </tr>\n",
       "  </thead>\n",
       "  <tbody>\n",
       "    <tr>\n",
       "      <th>0</th>\n",
       "      <td>1939-01-01</td>\n",
       "      <td>3.3336</td>\n",
       "      <td>1939</td>\n",
       "      <td>1</td>\n",
       "      <td>1</td>\n",
       "    </tr>\n",
       "    <tr>\n",
       "      <th>1</th>\n",
       "      <td>1939-02-01</td>\n",
       "      <td>3.3591</td>\n",
       "      <td>1939</td>\n",
       "      <td>2</td>\n",
       "      <td>1</td>\n",
       "    </tr>\n",
       "    <tr>\n",
       "      <th>2</th>\n",
       "      <td>1939-03-01</td>\n",
       "      <td>3.4354</td>\n",
       "      <td>1939</td>\n",
       "      <td>3</td>\n",
       "      <td>2</td>\n",
       "    </tr>\n",
       "    <tr>\n",
       "      <th>3</th>\n",
       "      <td>1939-04-01</td>\n",
       "      <td>3.4608</td>\n",
       "      <td>1939</td>\n",
       "      <td>4</td>\n",
       "      <td>2</td>\n",
       "    </tr>\n",
       "    <tr>\n",
       "      <th>4</th>\n",
       "      <td>1939-05-01</td>\n",
       "      <td>3.4608</td>\n",
       "      <td>1939</td>\n",
       "      <td>5</td>\n",
       "      <td>2</td>\n",
       "    </tr>\n",
       "  </tbody>\n",
       "</table>\n",
       "</div>"
      ],
      "text/plain": [
       "  observation_date  Production  année  mois  saison\n",
       "0       1939-01-01      3.3336   1939     1       1\n",
       "1       1939-02-01      3.3591   1939     2       1\n",
       "2       1939-03-01      3.4354   1939     3       2\n",
       "3       1939-04-01      3.4608   1939     4       2\n",
       "4       1939-05-01      3.4608   1939     5       2"
      ]
     },
     "execution_count": 5,
     "metadata": {},
     "output_type": "execute_result"
    }
   ],
   "source": [
    "data.head()"
   ]
  },
  {
   "cell_type": "markdown",
   "id": "1f09a070",
   "metadata": {},
   "source": [
    "<h2>Préparation des données</h2>"
   ]
  },
  {
   "cell_type": "code",
   "execution_count": 6,
   "id": "5fa0f53e",
   "metadata": {},
   "outputs": [],
   "source": [
    "# Data Preparation for LSTM with categorical features and date components\n",
    "feature = data[[ 'Production', 'mois', 'saison', 'année']].copy()\n",
    "\n",
    "# One-hot encode 'saison'\n",
    "feature= pd.get_dummies(feature, columns=['saison'], drop_first=True)"
   ]
  },
  {
   "cell_type": "code",
   "execution_count": 7,
   "id": "76e82b0a",
   "metadata": {},
   "outputs": [],
   "source": [
    "scaler = MinMaxScaler()\n",
    "numerical_cols = ['Production', 'mois', 'année']\n",
    "data_scaled = feature.copy()\n",
    "data_scaled[numerical_cols] = scaler.fit_transform(feature[numerical_cols])"
   ]
  },
  {
   "cell_type": "markdown",
   "id": "b89c2c45",
   "metadata": {},
   "source": [
    "<h2>Création des séquences</h2><br>permet au modèle de tirer parti des relations temporelles et d'améliorer sa capacité prédictive en intégrant les informations passées dans ses décisions actuelles."
   ]
  },
  {
   "cell_type": "code",
   "execution_count": 8,
   "id": "713c7bd2",
   "metadata": {},
   "outputs": [],
   "source": [
    "# Function to create sequences\n",
    "def create_sequences(data, seq_length):\n",
    "    X, y = [], []\n",
    "    for i in range(len(data) - seq_length - 1):\n",
    "        X.append(data[i:(i + seq_length)])\n",
    "        y.append(data[i + seq_length, 0])  \n",
    "    return np.array(X), np.array(y)"
   ]
  },
  {
   "cell_type": "code",
   "execution_count": 9,
   "id": "8fc964b0",
   "metadata": {},
   "outputs": [],
   "source": [
    "seq_length = 12\n",
    "X, y = create_sequences(data_scaled.values, seq_length)"
   ]
  },
  {
   "cell_type": "code",
   "execution_count": 10,
   "id": "74fd6c2c",
   "metadata": {},
   "outputs": [],
   "source": [
    "\n",
    "X = X.reshape(X.shape[0], X.shape[1], X.shape[2])"
   ]
  },
  {
   "cell_type": "markdown",
   "id": "314b13c9",
   "metadata": {},
   "source": [
    "<h2>Reshape pour LSTM </h2>\n",
    "\n",
    "Formatez les données d'entrée dans un format accepté par le réseau LSTM (n_samples, timesteps, n_features)"
   ]
  },
  {
   "cell_type": "code",
   "execution_count": 11,
   "id": "25890bf7",
   "metadata": {},
   "outputs": [],
   "source": [
    "# Explicitly cast to float32\n",
    "X = X.astype(np.float32)\n",
    "y = y.astype(np.float32)"
   ]
  },
  {
   "cell_type": "markdown",
   "id": "0c7cf7b2",
   "metadata": {},
   "source": [
    "Validation croisée pour séries temporelles "
   ]
  },
  {
   "cell_type": "code",
   "execution_count": 12,
   "id": "1c99f1dc",
   "metadata": {},
   "outputs": [],
   "source": [
    "# Model Building and Training (with TimeSeriesSplit)\n",
    "tscv = TimeSeriesSplit(n_splits=5)\n",
    "rmse_scores = []\n"
   ]
  },
  {
   "cell_type": "markdown",
   "id": "75b8bcc1",
   "metadata": {},
   "source": [
    "<h1>Entraînement d'un modèle LSTM</h1>"
   ]
  },
  {
   "cell_type": "code",
   "execution_count": 25,
   "id": "73fa5058",
   "metadata": {},
   "outputs": [],
   "source": [
    "from sklearn.metrics import mean_squared_error\n",
    "for train_index, test_index in tscv.split(X):\n",
    "    X_train, X_test = X[train_index], X[test_index]\n",
    "    y_train, y_test = y[train_index], y[test_index]\n",
    "\n",
    "    model = Sequential()\n",
    "    model.add(LSTM(50, activation='relu', input_shape=(X_train.shape[1], X_train.shape[2])))\n",
    "    model.add(Dropout(0.2))\n",
    "    model.add(Dense(1))\n",
    "    model.compile(optimizer='adam', loss='mse')\n",
    "    model.fit(X_train, y_train, epochs=50, batch_size=32, verbose=0)\n",
    "\n",
    "    y_pred = model.predict(X_test)\n",
    "    rmse = np.sqrt(mean_squared_error(y_test, y_pred))\n",
    "    rmse_scores.append(rmse)\n"
   ]
  },
  {
   "cell_type": "markdown",
   "id": "52237cf7",
   "metadata": {},
   "source": [
    "<h1>Évaluer la Précision du Modèle</h1>"
   ]
  },
  {
   "cell_type": "code",
   "execution_count": 26,
   "id": "71720b02",
   "metadata": {},
   "outputs": [
    {
     "name": "stdout",
     "output_type": "stream",
     "text": [
      "RMSE scores for each fold: [0.01964592, 0.043236163, 0.03876328, 0.037336167, 0.030179264, 0.050313655, 0.03527833, 0.030276205, 0.04291032, 0.06225886, 0.06167919, 0.10069738, 0.033573844, 0.048731096, 0.031337656]\n",
      "Average RMSE: 0.044414494186639786\n"
     ]
    }
   ],
   "source": [
    "print(\"RMSE scores for each fold:\", rmse_scores)\n",
    "print(f\"Average RMSE: {np.mean(rmse_scores)}\")\n",
    "\n",
    "# Forecasting\n",
    "last_sequence = data_scaled.values[-seq_length:]\n",
    "last_sequence = last_sequence.reshape(1, seq_length, last_sequence.shape[1])\n",
    "\n",
    "predicted_scaled = model.predict"
   ]
  },
  {
   "cell_type": "markdown",
   "id": "9d4fc295",
   "metadata": {},
   "source": [
    "<h1>Visualisation des Résultats de model</h1>"
   ]
  },
  {
   "cell_type": "code",
   "execution_count": 27,
   "id": "a95e987e",
   "metadata": {},
   "outputs": [
    {
     "data": {
      "image/png": "[encoded data removed]",
      "text/plain": [
       "<Figure size 432x288 with 1 Axes>"
      ]
     },
     "metadata": {
      "needs_background": "light"
     },
     "output_type": "display_data"
    }
   ],
   "source": [
    "import matplotlib.pyplot as plt\n",
    "\n",
    "# Scatter plot of predicted vs actual values\n",
    "plt.scatter(y_test, y_pred)\n",
    "plt.xlabel(\"Actual Production\")\n",
    "plt.ylabel(\"Predicted Production\")\n",
    "plt.title(\"Actual vs Predicted Production\")\n",
    "plt.plot([y_test.min(), y_test.max()], [y_test.min(), y_test.max()], color='red', linestyle='--')\n",
    "plt.show()\n"
   ]
  },
  {
   "cell_type": "code",
   "execution_count": null,
   "id": "49a423e1",
   "metadata": {},
   "outputs": [],
   "source": []
  }
 ],
 "metadata": {
  "kernelspec": {
   "display_name": "Python 3 (ipykernel)",
   "language": "python",
   "name": "python3"
  },
  "language_info": {
   "codemirror_mode": {
    "name": "ipython",
    "version": 3
   },
   "file_extension": ".py",
   "mimetype": "text/x-python",
   "name": "python",
   "nbconvert_exporter": "python",
   "pygments_lexer": "ipython3",
   "version": "3.9.7"
  }
 },
 "nbformat": 4,
 "nbformat_minor": 5
}
