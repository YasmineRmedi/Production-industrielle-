{
 "cells": [
  {
   "cell_type": "code",
   "execution_count": 38,
   "id": "9b793d4d",
   "metadata": {},
   "outputs": [],
   "source": [
    "import pandas as pd\n",
    "data = pd.read_csv('IPG2211A2N.csv')"
   ]
  },
  {
   "cell_type": "code",
   "execution_count": 39,
   "id": "b322f852",
   "metadata": {},
   "outputs": [
    {
     "data": {
      "text/html": [
       "<div>\n",
       "<style scoped>\n",
       "    .dataframe tbody tr th:only-of-type {\n",
       "        vertical-align: middle;\n",
       "    }\n",
       "\n",
       "    .dataframe tbody tr th {\n",
       "        vertical-align: top;\n",
       "    }\n",
       "\n",
       "    .dataframe thead th {\n",
       "        text-align: right;\n",
       "    }\n",
       "</style>\n",
       "<table border=\"1\" class=\"dataframe\">\n",
       "  <thead>\n",
       "    <tr style=\"text-align: right;\">\n",
       "      <th></th>\n",
       "      <th>observation_date</th>\n",
       "      <th>IPG2211A2N</th>\n",
       "    </tr>\n",
       "  </thead>\n",
       "  <tbody>\n",
       "    <tr>\n",
       "      <th>0</th>\n",
       "      <td>1939-01-01</td>\n",
       "      <td>3.3336</td>\n",
       "    </tr>\n",
       "    <tr>\n",
       "      <th>1</th>\n",
       "      <td>1939-02-01</td>\n",
       "      <td>3.3591</td>\n",
       "    </tr>\n",
       "    <tr>\n",
       "      <th>2</th>\n",
       "      <td>1939-03-01</td>\n",
       "      <td>3.4354</td>\n",
       "    </tr>\n",
       "    <tr>\n",
       "      <th>3</th>\n",
       "      <td>1939-04-01</td>\n",
       "      <td>3.4608</td>\n",
       "    </tr>\n",
       "    <tr>\n",
       "      <th>4</th>\n",
       "      <td>1939-05-01</td>\n",
       "      <td>3.4608</td>\n",
       "    </tr>\n",
       "  </tbody>\n",
       "</table>\n",
       "</div>"
      ],
      "text/plain": [
       "  observation_date  IPG2211A2N\n",
       "0       1939-01-01      3.3336\n",
       "1       1939-02-01      3.3591\n",
       "2       1939-03-01      3.4354\n",
       "3       1939-04-01      3.4608\n",
       "4       1939-05-01      3.4608"
      ]
     },
     "execution_count": 39,
     "metadata": {},
     "output_type": "execute_result"
    }
   ],
   "source": [
    "data.head()"
   ]
  },
  {
   "cell_type": "code",
   "execution_count": 40,
   "id": "f20a96d3",
   "metadata": {},
   "outputs": [
    {
     "data": {
      "text/plain": [
       "(1030, 2)"
      ]
     },
     "execution_count": 40,
     "metadata": {},
     "output_type": "execute_result"
    }
   ],
   "source": [
    "data.shape"
   ]
  },
  {
   "cell_type": "code",
   "execution_count": 41,
   "id": "ddf3fb0a",
   "metadata": {},
   "outputs": [
    {
     "data": {
      "text/plain": [
       "observation_date     object\n",
       "IPG2211A2N          float64\n",
       "dtype: object"
      ]
     },
     "execution_count": 41,
     "metadata": {},
     "output_type": "execute_result"
    }
   ],
   "source": [
    "data.dtypes"
   ]
  },
  {
   "cell_type": "code",
   "execution_count": 42,
   "id": "6a545ed4",
   "metadata": {},
   "outputs": [
    {
     "name": "stdout",
     "output_type": "stream",
     "text": [
      "<class 'pandas.core.frame.DataFrame'>\n",
      "RangeIndex: 1030 entries, 0 to 1029\n",
      "Data columns (total 2 columns):\n",
      " #   Column            Non-Null Count  Dtype  \n",
      "---  ------            --------------  -----  \n",
      " 0   observation_date  1030 non-null   object \n",
      " 1   IPG2211A2N        1030 non-null   float64\n",
      "dtypes: float64(1), object(1)\n",
      "memory usage: 16.2+ KB\n"
     ]
    }
   ],
   "source": [
    "data.info()"
   ]
  },
  {
   "cell_type": "code",
   "execution_count": 43,
   "id": "db602d2f",
   "metadata": {},
   "outputs": [
    {
     "data": {
      "text/html": [
       "<div>\n",
       "<style scoped>\n",
       "    .dataframe tbody tr th:only-of-type {\n",
       "        vertical-align: middle;\n",
       "    }\n",
       "\n",
       "    .dataframe tbody tr th {\n",
       "        vertical-align: top;\n",
       "    }\n",
       "\n",
       "    .dataframe thead th {\n",
       "        text-align: right;\n",
       "    }\n",
       "</style>\n",
       "<table border=\"1\" class=\"dataframe\">\n",
       "  <thead>\n",
       "    <tr style=\"text-align: right;\">\n",
       "      <th></th>\n",
       "      <th>IPG2211A2N</th>\n",
       "    </tr>\n",
       "  </thead>\n",
       "  <tbody>\n",
       "    <tr>\n",
       "      <th>count</th>\n",
       "      <td>1030.000000</td>\n",
       "    </tr>\n",
       "    <tr>\n",
       "      <th>mean</th>\n",
       "      <td>56.821588</td>\n",
       "    </tr>\n",
       "    <tr>\n",
       "      <th>std</th>\n",
       "      <td>35.982935</td>\n",
       "    </tr>\n",
       "    <tr>\n",
       "      <th>min</th>\n",
       "      <td>3.333600</td>\n",
       "    </tr>\n",
       "    <tr>\n",
       "      <th>25%</th>\n",
       "      <td>20.968675</td>\n",
       "    </tr>\n",
       "    <tr>\n",
       "      <th>50%</th>\n",
       "      <td>56.909600</td>\n",
       "    </tr>\n",
       "    <tr>\n",
       "      <th>75%</th>\n",
       "      <td>89.590800</td>\n",
       "    </tr>\n",
       "    <tr>\n",
       "      <th>max</th>\n",
       "      <td>126.377200</td>\n",
       "    </tr>\n",
       "  </tbody>\n",
       "</table>\n",
       "</div>"
      ],
      "text/plain": [
       "        IPG2211A2N\n",
       "count  1030.000000\n",
       "mean     56.821588\n",
       "std      35.982935\n",
       "min       3.333600\n",
       "25%      20.968675\n",
       "50%      56.909600\n",
       "75%      89.590800\n",
       "max     126.377200"
      ]
     },
     "execution_count": 43,
     "metadata": {},
     "output_type": "execute_result"
    }
   ],
   "source": [
    "data.describe()"
   ]
  },
  {
   "cell_type": "code",
   "execution_count": 44,
   "id": "239ec915",
   "metadata": {},
   "outputs": [],
   "source": [
    "from datetime import datetime\n",
    "\n",
    "# Convertir la colonne 'observation_date' en datetime\n",
    "data['observation_date'] = pd.to_datetime(data['observation_date'])"
   ]
  },
  {
   "cell_type": "code",
   "execution_count": 45,
   "id": "d67e0843",
   "metadata": {},
   "outputs": [],
   "source": [
    "# Renommer la colonne 'IPG2211A2N' en 'Production'\n",
    "data.rename(columns={'IPG2211A2N': 'Production'}, inplace=True)"
   ]
  },
  {
   "cell_type": "code",
   "execution_count": 46,
   "id": "e44e6acb",
   "metadata": {},
   "outputs": [
    {
     "data": {
      "text/html": [
       "<div>\n",
       "<style scoped>\n",
       "    .dataframe tbody tr th:only-of-type {\n",
       "        vertical-align: middle;\n",
       "    }\n",
       "\n",
       "    .dataframe tbody tr th {\n",
       "        vertical-align: top;\n",
       "    }\n",
       "\n",
       "    .dataframe thead th {\n",
       "        text-align: right;\n",
       "    }\n",
       "</style>\n",
       "<table border=\"1\" class=\"dataframe\">\n",
       "  <thead>\n",
       "    <tr style=\"text-align: right;\">\n",
       "      <th></th>\n",
       "      <th>observation_date</th>\n",
       "      <th>Production</th>\n",
       "    </tr>\n",
       "  </thead>\n",
       "  <tbody>\n",
       "    <tr>\n",
       "      <th>0</th>\n",
       "      <td>1939-01-01</td>\n",
       "      <td>3.3336</td>\n",
       "    </tr>\n",
       "    <tr>\n",
       "      <th>1</th>\n",
       "      <td>1939-02-01</td>\n",
       "      <td>3.3591</td>\n",
       "    </tr>\n",
       "    <tr>\n",
       "      <th>2</th>\n",
       "      <td>1939-03-01</td>\n",
       "      <td>3.4354</td>\n",
       "    </tr>\n",
       "    <tr>\n",
       "      <th>3</th>\n",
       "      <td>1939-04-01</td>\n",
       "      <td>3.4608</td>\n",
       "    </tr>\n",
       "    <tr>\n",
       "      <th>4</th>\n",
       "      <td>1939-05-01</td>\n",
       "      <td>3.4608</td>\n",
       "    </tr>\n",
       "  </tbody>\n",
       "</table>\n",
       "</div>"
      ],
      "text/plain": [
       "  observation_date  Production\n",
       "0       1939-01-01      3.3336\n",
       "1       1939-02-01      3.3591\n",
       "2       1939-03-01      3.4354\n",
       "3       1939-04-01      3.4608\n",
       "4       1939-05-01      3.4608"
      ]
     },
     "execution_count": 46,
     "metadata": {},
     "output_type": "execute_result"
    }
   ],
   "source": [
    "data.head()"
   ]
  },
  {
   "cell_type": "code",
   "execution_count": 47,
   "id": "f46e2656",
   "metadata": {},
   "outputs": [
    {
     "data": {
      "image/png": "[encoded data removed]",
      "text/plain": [
       "<Figure size 1008x504 with 1 Axes>"
      ]
     },
     "metadata": {
      "needs_background": "light"
     },
     "output_type": "display_data"
    }
   ],
   "source": [
    "from matplotlib import pyplot as plt\n",
    "plt.figure(figsize=(14, 7))\n",
    "plt.plot(data['observation_date'], data['Production'], label='Production industrielle', color='blue')\n",
    "plt.title('Production industrielle des services d\\'électricité et de gaz (1939-2019)')\n",
    "plt.xlabel('Année')\n",
    "plt.ylabel('Production')\n",
    "#plt.legend()\n",
    "#plt.grid()\n",
    "plt.show()"
   ]
  },
  {
   "cell_type": "code",
   "execution_count": 48,
   "id": "58658a6a",
   "metadata": {},
   "outputs": [],
   "source": [
    "# Extraire l'année et ajouter une colonne 'année'\n",
    "data['année'] = data['observation_date'].dt.year\n",
    "\n",
    "# Calculer la moyenne de la production par année\n",
    "production_par_annee = data.groupby('année')['Production'].mean().reset_index()\n"
   ]
  },
  {
   "cell_type": "code",
   "execution_count": 49,
   "id": "6fe2f803",
   "metadata": {},
   "outputs": [
    {
     "data": {
      "image/png": "[encoded data removed]",
      "text/plain": [
       "<Figure size 864x432 with 1 Axes>"
      ]
     },
     "metadata": {
      "needs_background": "light"
     },
     "output_type": "display_data"
    }
   ],
   "source": [
    "# Créer un graphique à barres\n",
    "plt.figure(figsize=(12, 6))\n",
    "plt.bar(production_par_annee['année'], production_par_annee['Production'], color='blue')\n",
    "plt.title('Production moyenne par année')\n",
    "plt.xlabel('Année')\n",
    "plt.ylabel('Production moyenne')\n",
    "plt.xticks(rotation=45)\n",
    "#plt.grid(axis='y')\n",
    "\n",
    "# Afficher le graphique\n",
    "plt.tight_layout()\n",
    "plt.show()"
   ]
  },
  {
   "cell_type": "code",
   "execution_count": 50,
   "id": "34bfc91d",
   "metadata": {},
   "outputs": [
    {
     "data": {
      "text/html": [
       "<div>\n",
       "<style scoped>\n",
       "    .dataframe tbody tr th:only-of-type {\n",
       "        vertical-align: middle;\n",
       "    }\n",
       "\n",
       "    .dataframe tbody tr th {\n",
       "        vertical-align: top;\n",
       "    }\n",
       "\n",
       "    .dataframe thead th {\n",
       "        text-align: right;\n",
       "    }\n",
       "</style>\n",
       "<table border=\"1\" class=\"dataframe\">\n",
       "  <thead>\n",
       "    <tr style=\"text-align: right;\">\n",
       "      <th></th>\n",
       "      <th>observation_date</th>\n",
       "      <th>Production</th>\n",
       "      <th>année</th>\n",
       "    </tr>\n",
       "  </thead>\n",
       "  <tbody>\n",
       "    <tr>\n",
       "      <th>0</th>\n",
       "      <td>1939-01-01</td>\n",
       "      <td>3.3336</td>\n",
       "      <td>1939</td>\n",
       "    </tr>\n",
       "    <tr>\n",
       "      <th>1</th>\n",
       "      <td>1939-02-01</td>\n",
       "      <td>3.3591</td>\n",
       "      <td>1939</td>\n",
       "    </tr>\n",
       "    <tr>\n",
       "      <th>2</th>\n",
       "      <td>1939-03-01</td>\n",
       "      <td>3.4354</td>\n",
       "      <td>1939</td>\n",
       "    </tr>\n",
       "    <tr>\n",
       "      <th>3</th>\n",
       "      <td>1939-04-01</td>\n",
       "      <td>3.4608</td>\n",
       "      <td>1939</td>\n",
       "    </tr>\n",
       "    <tr>\n",
       "      <th>4</th>\n",
       "      <td>1939-05-01</td>\n",
       "      <td>3.4608</td>\n",
       "      <td>1939</td>\n",
       "    </tr>\n",
       "  </tbody>\n",
       "</table>\n",
       "</div>"
      ],
      "text/plain": [
       "  observation_date  Production  année\n",
       "0       1939-01-01      3.3336   1939\n",
       "1       1939-02-01      3.3591   1939\n",
       "2       1939-03-01      3.4354   1939\n",
       "3       1939-04-01      3.4608   1939\n",
       "4       1939-05-01      3.4608   1939"
      ]
     },
     "execution_count": 50,
     "metadata": {},
     "output_type": "execute_result"
    }
   ],
   "source": [
    "data.head()"
   ]
  },
  {
   "cell_type": "code",
   "execution_count": 51,
   "id": "90cde58b",
   "metadata": {},
   "outputs": [],
   "source": [
    "# Ajouter une colonne pour le mois\n",
    "data['mois'] = data['observation_date'].dt.month"
   ]
  },
  {
   "cell_type": "code",
   "execution_count": 52,
   "id": "d460e018",
   "metadata": {},
   "outputs": [],
   "source": [
    "def get_saison(mois):\n",
    "    if mois in [3, 4, 5]:\n",
    "        return 'Printemps'\n",
    "    elif mois in [6, 7, 8]:\n",
    "        return 'Été'\n",
    "    elif mois in [9, 10, 11]:\n",
    "        return 'Automne'\n",
    "    else:\n",
    "        return 'Hiver'\n",
    "\n",
    "data['saison'] = data['mois'].apply(get_saison)"
   ]
  },
  {
   "cell_type": "code",
   "execution_count": 53,
   "id": "6c1787e0",
   "metadata": {},
   "outputs": [
    {
     "name": "stdout",
     "output_type": "stream",
     "text": [
      "      saison  Production\n",
      "0    Automne   53.836140\n",
      "1      Hiver   61.631762\n",
      "2  Printemps   52.942918\n",
      "3        Été   58.882603\n"
     ]
    }
   ],
   "source": [
    "production_par_saison = data.groupby('saison')['Production'].mean().reset_index()\n",
    "print(production_par_saison)"
   ]
  },
  {
   "cell_type": "code",
   "execution_count": 54,
   "id": "efe31185",
   "metadata": {},
   "outputs": [
    {
     "data": {
      "image/png": "[encoded data removed]",
      "text/plain": [
       "<Figure size 648x360 with 1 Axes>"
      ]
     },
     "metadata": {
      "needs_background": "light"
     },
     "output_type": "display_data"
    }
   ],
   "source": [
    "# Créer un bar plot\n",
    "plt.figure(figsize=(9, 5))\n",
    "plt.bar(production_par_saison['saison'], production_par_saison['Production'], color='blue')\n",
    "plt.title('Production moyenne par saison')\n",
    "plt.xlabel('Saison')\n",
    "plt.ylabel('Production moyenne')\n",
    "plt.xticks(rotation=40)\n",
    "plt.grid(axis='y')\n",
    "\n",
    "# Afficher le diagramme\n",
    "plt.tight_layout()\n",
    "plt.show()"
   ]
  },
  {
   "cell_type": "code",
   "execution_count": 55,
   "id": "88b8eece",
   "metadata": {},
   "outputs": [
    {
     "data": {
      "text/html": [
       "<div>\n",
       "<style scoped>\n",
       "    .dataframe tbody tr th:only-of-type {\n",
       "        vertical-align: middle;\n",
       "    }\n",
       "\n",
       "    .dataframe tbody tr th {\n",
       "        vertical-align: top;\n",
       "    }\n",
       "\n",
       "    .dataframe thead th {\n",
       "        text-align: right;\n",
       "    }\n",
       "</style>\n",
       "<table border=\"1\" class=\"dataframe\">\n",
       "  <thead>\n",
       "    <tr style=\"text-align: right;\">\n",
       "      <th></th>\n",
       "      <th>observation_date</th>\n",
       "      <th>Production</th>\n",
       "      <th>année</th>\n",
       "      <th>mois</th>\n",
       "      <th>saison</th>\n",
       "    </tr>\n",
       "  </thead>\n",
       "  <tbody>\n",
       "    <tr>\n",
       "      <th>0</th>\n",
       "      <td>1939-01-01</td>\n",
       "      <td>3.3336</td>\n",
       "      <td>1939</td>\n",
       "      <td>1</td>\n",
       "      <td>Hiver</td>\n",
       "    </tr>\n",
       "    <tr>\n",
       "      <th>1</th>\n",
       "      <td>1939-02-01</td>\n",
       "      <td>3.3591</td>\n",
       "      <td>1939</td>\n",
       "      <td>2</td>\n",
       "      <td>Hiver</td>\n",
       "    </tr>\n",
       "    <tr>\n",
       "      <th>2</th>\n",
       "      <td>1939-03-01</td>\n",
       "      <td>3.4354</td>\n",
       "      <td>1939</td>\n",
       "      <td>3</td>\n",
       "      <td>Printemps</td>\n",
       "    </tr>\n",
       "    <tr>\n",
       "      <th>3</th>\n",
       "      <td>1939-04-01</td>\n",
       "      <td>3.4608</td>\n",
       "      <td>1939</td>\n",
       "      <td>4</td>\n",
       "      <td>Printemps</td>\n",
       "    </tr>\n",
       "    <tr>\n",
       "      <th>4</th>\n",
       "      <td>1939-05-01</td>\n",
       "      <td>3.4608</td>\n",
       "      <td>1939</td>\n",
       "      <td>5</td>\n",
       "      <td>Printemps</td>\n",
       "    </tr>\n",
       "  </tbody>\n",
       "</table>\n",
       "</div>"
      ],
      "text/plain": [
       "  observation_date  Production  année  mois     saison\n",
       "0       1939-01-01      3.3336   1939     1      Hiver\n",
       "1       1939-02-01      3.3591   1939     2      Hiver\n",
       "2       1939-03-01      3.4354   1939     3  Printemps\n",
       "3       1939-04-01      3.4608   1939     4  Printemps\n",
       "4       1939-05-01      3.4608   1939     5  Printemps"
      ]
     },
     "execution_count": 55,
     "metadata": {},
     "output_type": "execute_result"
    }
   ],
   "source": [
    "data.head()"
   ]
  },
  {
   "cell_type": "code",
   "execution_count": 56,
   "id": "28ece101",
   "metadata": {},
   "outputs": [
    {
     "data": {
      "image/png": "[encoded data removed]",
      "text/plain": [
       "<Figure size 648x360 with 1 Axes>"
      ]
     },
     "metadata": {
      "needs_background": "light"
     },
     "output_type": "display_data"
    }
   ],
   "source": [
    "# Créer un bar plot\n",
    "plt.figure(figsize=(9, 5))\n",
    "plt.bar(data['mois'], data['Production'], color='blue')\n",
    "plt.title('Production moyenne par mois')\n",
    "plt.xlabel('mois')\n",
    "plt.ylabel('Production moyenne')\n",
    "plt.xticks(rotation=40)\n",
    "plt.grid(axis='y')\n",
    "\n",
    "# Afficher le diagramme\n",
    "plt.tight_layout()\n",
    "plt.show()"
   ]
  },
  {
   "cell_type": "code",
   "execution_count": 57,
   "id": "201be867",
   "metadata": {},
   "outputs": [
    {
     "name": "stdout",
     "output_type": "stream",
     "text": [
      "        Production        année         mois\n",
      "count  1030.000000  1030.000000  1030.000000\n",
      "mean     56.821588  1981.417476     6.490291\n",
      "std      35.982935    24.789698     3.449962\n",
      "min       3.333600  1939.000000     1.000000\n",
      "25%      20.968675  1960.000000     3.250000\n",
      "50%      56.909600  1981.000000     6.000000\n",
      "75%      89.590800  2003.000000     9.000000\n",
      "max     126.377200  2024.000000    12.000000\n"
     ]
    }
   ],
   "source": [
    "print(data.describe())"
   ]
  },
  {
   "cell_type": "code",
   "execution_count": 58,
   "id": "dd15373f",
   "metadata": {},
   "outputs": [
    {
     "name": "stdout",
     "output_type": "stream",
     "text": [
      "  observation_date  Production  année  mois  saison\n",
      "0       1939-01-01      3.3336   1939     1       1\n",
      "1       1939-02-01      3.3591   1939     2       1\n",
      "2       1939-03-01      3.4354   1939     3       2\n",
      "3       1939-04-01      3.4608   1939     4       2\n",
      "4       1939-05-01      3.4608   1939     5       2\n"
     ]
    }
   ],
   "source": [
    "# Supposons que votre DataFrame s'appelle df\n",
    "data['saison'] = data['saison'].replace({'Hiver': 1, 'Printemps': 2, 'Été': 3, 'Automne': 4})\n",
    "\n",
    "# Vérifier le résultat\n",
    "print(data.head())\n"
   ]
  },
  {
   "cell_type": "code",
   "execution_count": 59,
   "id": "bf15c655",
   "metadata": {},
   "outputs": [
    {
     "data": {
      "image/png": "[encoded data removed]",
      "text/plain": [
       "<Figure size 720x576 with 2 Axes>"
      ]
     },
     "metadata": {
      "needs_background": "light"
     },
     "output_type": "display_data"
    }
   ],
   "source": [
    "import pandas as pd\n",
    "import seaborn as sns\n",
    "import matplotlib.pyplot as plt\n",
    "\n",
    "# Supposons que vous ayez un DataFrame df\n",
    "corr_matrix = data.corr()\n",
    "\n",
    "# Afficher la matrice de corrélation\n",
    "plt.figure(figsize=(10, 8))\n",
    "sns.heatmap(corr_matrix, annot=True, cmap='coolwarm', fmt='.2f')\n",
    "plt.title('Matrice de Corrélation')\n",
    "plt.show()\n"
   ]
  },
  {
   "cell_type": "code",
   "execution_count": 60,
   "id": "1cfb0227",
   "metadata": {},
   "outputs": [],
   "source": [
    "data.to_csv('data_production')"
   ]
  },
  {
   "cell_type": "code",
   "execution_count": null,
   "id": "6c4866c3",
   "metadata": {},
   "outputs": [],
   "source": []
  }
 ],
 "metadata": {
  "kernelspec": {
   "display_name": "Python 3 (ipykernel)",
   "language": "python",
   "name": "python3"
  },
  "language_info": {
   "codemirror_mode": {
    "name": "ipython",
    "version": 3
   },
   "file_extension": ".py",
   "mimetype": "text/x-python",
   "name": "python",
   "nbconvert_exporter": "python",
   "pygments_lexer": "ipython3",
   "version": "3.9.7"
  }
 },
 "nbformat": 4,
 "nbformat_minor": 5
}
